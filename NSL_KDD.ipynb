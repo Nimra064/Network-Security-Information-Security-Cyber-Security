{
  "nbformat": 4,
  "nbformat_minor": 0,
  "metadata": {
    "colab": {
      "private_outputs": true,
      "provenance": []
    },
    "kernelspec": {
      "name": "python3",
      "display_name": "Python 3"
    },
    "language_info": {
      "name": "python"
    },
    "accelerator": "GPU",
    "gpuClass": "standard"
  },
  "cells": [
    {
      "cell_type": "markdown",
      "source": [
        "# Network Security, Information Security, Cyber Security"
      ],
      "metadata": {
        "id": "aEQCAPbdKLdc"
      }
    },
    {
      "cell_type": "markdown",
      "source": [
        "### Dataset Description"
      ],
      "metadata": {
        "id": "U5wljKsNK2CO"
      }
    },
    {
      "cell_type": "markdown",
      "source": [
        "KDDTrain+.ARFF The full NSL-KDD train set with binary labels in ARFF format <br>\n",
        "\n",
        "KDDTrain+.TXT The full NSL-KDD train set including attack-type labels and difficulty level in CSV format <br>\n",
        "\n",
        "The full NSL-KDD train set including attack-type labels and difficulty level in CSV format <br>\n",
        "\n",
        "KDDTrain+_20Percent.ARFF A 20% subset of the KDDTrain+.arff file <br>\n",
        "\n",
        "KDDTrain+_20Percent.TXT A 20% subset of the KDDTrain+.txt file <br>\n",
        "\n",
        "KDDTest+.ARFF The full NSL-KDD test set with binary labels in ARFF format <br>\n",
        "\n",
        "KDDTest+.TXT The full NSL-KDD test set including attack-type labels and difficulty level in CSV format <br>\n",
        "\n",
        "KDDTest-21.ARFF A subset of the KDDTest+.arff file which does not include records with difficulty level of\n",
        "21 out of 21 <br>\n",
        "\n",
        "KDDTest-21.TXT A subset of the KDDTest+.txt file which does not include records with difficulty level of 21\n",
        "out of 21 <br>\n"
      ],
      "metadata": {
        "id": "_tpQe71FKW7g"
      }
    },
    {
      "cell_type": "markdown",
      "source": [
        "### Improvements to the KDD'99 data set\n"
      ],
      "metadata": {
        "id": "yEEKftg1K-ut"
      }
    },
    {
      "cell_type": "markdown",
      "source": [
        "The NSL-KDD data set has the following advantages over the original KDD data set:\n",
        "It does not include redundant records in the train set, so the classifiers will not be biased towards more frequent records.\n",
        "\n",
        "There is no duplicate records in the proposed test sets; therefore, the performance of the learners are not biased by the methods which have better detection rates on the frequent records.\n",
        "\n",
        "The number of selected records from each difficultylevel group is inversely proportional to the percentage of records in the original KDD data set. As a result, the classification rates of distinct machine learning methods vary in a wider range, which makes it more efficient to have an accurate evaluation of different learning techniques.\n",
        "\n",
        "The number of records in the train and test sets are reasonable, which makes it affordable to run the experiments on the complete set without the need to randomly select a small portion. Consequently, evaluation results of different research works will be consistent and comparable."
      ],
      "metadata": {
        "id": "yQOiqYjGK70Z"
      }
    },
    {
      "cell_type": "markdown",
      "source": [
        "Dataset Here : https://www.kaggle.com/datasets/hassan06/nslkdd"
      ],
      "metadata": {
        "id": "0j2IH1yJLJHm"
      }
    },
    {
      "cell_type": "markdown",
      "source": [
        "# Mount Google Drive with Colab"
      ],
      "metadata": {
        "id": "o5-B6a3tCJ9m"
      }
    },
    {
      "cell_type": "code",
      "execution_count": null,
      "metadata": {
        "id": "IBY2j_bTB_ow"
      },
      "outputs": [],
      "source": [
        "# mount drive with colab\n",
        "from google.colab import drive\n",
        "drive.mount('/content/mydrive')"
      ]
    },
    {
      "cell_type": "markdown",
      "source": [
        "# Import Libraries"
      ],
      "metadata": {
        "id": "lRTYGcFoCYfH"
      }
    },
    {
      "cell_type": "code",
      "source": [
        "# preprocessing Libraries\n",
        "import numpy as np\n",
        "import pandas as pd\n",
        "# Label Encoding Library\n",
        "from sklearn import preprocessing\n",
        "# Feature Engineering Libraries\n",
        "from sklearn.model_selection import train_test_split\n",
        "from sklearn.metrics import accuracy_score, confusion_matrix, classification_report\n",
        "# Logistic Regression Model Library\n",
        "from sklearn.linear_model import LogisticRegression\n",
        "# DecisionTree Model Library\n",
        "from sklearn.tree import DecisionTreeClassifier\n",
        "# SVM Model Library\n",
        "from sklearn.svm import SVC\n",
        "# KNN Model Library\n",
        "from sklearn.neighbors import KNeighborsClassifier\n",
        "# Random forest and Gradient Boosting Classifier Library\n",
        "from sklearn.ensemble import RandomForestClassifier, GradientBoostingClassifier\n",
        "# Visulization Libraries\n",
        "import matplotlib.pyplot as plt\n",
        "import seaborn as sns"
      ],
      "metadata": {
        "id": "hFJXnjQi7F9Z"
      },
      "execution_count": null,
      "outputs": []
    },
    {
      "cell_type": "markdown",
      "source": [
        "# Read Datasets"
      ],
      "metadata": {
        "id": "55-X4pNrCxnE"
      }
    },
    {
      "cell_type": "code",
      "source": [
        "# Define the Columns of Dataset\n",
        "columns = (['duration','protocol_type','service','flag','src_bytes','dst_bytes','land','wrong_fragment','urgent','hot'\n",
        ",'num_failed_logins','logged_in','num_compromised','root_shell','su_attempted','num_root','num_file_creations'\n",
        ",'num_shells','num_access_files','num_outbound_cmds','is_host_login','is_guest_login','count','srv_count','serror_rate'\n",
        ",'srv_serror_rate','rerror_rate','srv_rerror_rate','same_srv_rate','diff_srv_rate','srv_diff_host_rate','dst_host_count','dst_host_srv_count'\n",
        ",'dst_host_same_srv_rate','dst_host_diff_srv_rate','dst_host_same_src_port_rate','dst_host_srv_diff_host_rate','dst_host_serror_rate'\n",
        ",'dst_host_srv_serror_rate','dst_host_rerror_rate','dst_host_srv_rerror_rate','outcome','level'])\n"
      ],
      "metadata": {
        "id": "KyuQegNLE4uq"
      },
      "execution_count": null,
      "outputs": []
    },
    {
      "cell_type": "code",
      "source": [
        "# read the test dataset\n",
        "KDD_TEST=pd.read_csv('/content/mydrive/MyDrive/dataset/NSL-KDD/NSL-KDD/KDDTest+.txt' , names= columns)\n",
        "print(KDD_TEST.head())"
      ],
      "metadata": {
        "id": "Pc0o35aiC22V"
      },
      "execution_count": null,
      "outputs": []
    },
    {
      "cell_type": "code",
      "source": [
        "# read the test dataset on 21 different attackers\n",
        "KDD_TEST_21=pd.read_csv('/content/mydrive/MyDrive/dataset/NSL-KDD/NSL-KDD/KDDTest-21.txt' , names= columns)\n",
        "print(KDD_TEST_21.head())"
      ],
      "metadata": {
        "id": "owu_NOkfFpA_"
      },
      "execution_count": null,
      "outputs": []
    },
    {
      "cell_type": "code",
      "source": [
        "# read the train dataset\n",
        "KDD_TRAIN=pd.read_csv('/content/mydrive/MyDrive/dataset/NSL-KDD/NSL-KDD/KDDTrain+.txt' , names= columns)\n",
        "print(KDD_TRAIN.head())"
      ],
      "metadata": {
        "id": "mc57oHHLGAx3"
      },
      "execution_count": null,
      "outputs": []
    },
    {
      "cell_type": "code",
      "source": [
        "# read the train dataset ON 20 percentage\n",
        "KDD_TRAIN_20=pd.read_csv('/content/mydrive/MyDrive/dataset/NSL-KDD/NSL-KDD/KDDTrain+_20Percent.txt' , names= columns)\n",
        "print(KDD_TRAIN_20.head())"
      ],
      "metadata": {
        "id": "F7c63pDyGWLd"
      },
      "execution_count": null,
      "outputs": []
    },
    {
      "cell_type": "markdown",
      "source": [
        "# Dataset Preprocessing -EDA"
      ],
      "metadata": {
        "id": "3h3cgcZFGtp9"
      }
    },
    {
      "cell_type": "markdown",
      "source": [
        "\n",
        "\n",
        "> Identify the Null Values From Different Datasets\n",
        "\n"
      ],
      "metadata": {
        "id": "Za6e9CQTG7oA"
      }
    },
    {
      "cell_type": "code",
      "source": [
        "# KDD_TEST\n",
        "KDD_TEST.isnull().sum()"
      ],
      "metadata": {
        "id": "Q9sYAXJeGyAv"
      },
      "execution_count": null,
      "outputs": []
    },
    {
      "cell_type": "code",
      "source": [
        "# KDD_TEST_21\n",
        "KDD_TEST_21.isnull().sum()"
      ],
      "metadata": {
        "id": "TGrZ33-tHPRN"
      },
      "execution_count": null,
      "outputs": []
    },
    {
      "cell_type": "code",
      "source": [
        "# KDD_TRAIN\n",
        "KDD_TRAIN.isnull().sum()"
      ],
      "metadata": {
        "id": "YrUD_fRlHUiC"
      },
      "execution_count": null,
      "outputs": []
    },
    {
      "cell_type": "code",
      "source": [
        "# KDD_TRAIN_20\n",
        "KDD_TRAIN_20.isnull().sum()"
      ],
      "metadata": {
        "id": "VbPDlqnVHeUZ"
      },
      "execution_count": null,
      "outputs": []
    },
    {
      "cell_type": "markdown",
      "source": [
        "**Note**: <br> *KDD_TEST,KDD_TEST_21 ,KDD_TRAIN and KDD_TRAIN_20 these datasets have not Null Values or missing Values.*"
      ],
      "metadata": {
        "id": "pewXp5yuHzQi"
      }
    },
    {
      "cell_type": "markdown",
      "source": [
        "\n",
        "\n",
        "> Information of Different Datasets\n",
        "\n"
      ],
      "metadata": {
        "id": "8ludOBajIgH8"
      }
    },
    {
      "cell_type": "code",
      "source": [
        "KDD_TEST.info()"
      ],
      "metadata": {
        "id": "ZkVHqQ0jHytw"
      },
      "execution_count": null,
      "outputs": []
    },
    {
      "cell_type": "code",
      "source": [
        "KDD_TEST_21.info()"
      ],
      "metadata": {
        "id": "A2RIBjyQIvuo"
      },
      "execution_count": null,
      "outputs": []
    },
    {
      "cell_type": "code",
      "source": [
        "KDD_TRAIN.info()"
      ],
      "metadata": {
        "id": "IQx_o3lmI0RK"
      },
      "execution_count": null,
      "outputs": []
    },
    {
      "cell_type": "code",
      "source": [
        "KDD_TRAIN_20.info()"
      ],
      "metadata": {
        "id": "LsJnaXvOI4sl"
      },
      "execution_count": null,
      "outputs": []
    },
    {
      "cell_type": "markdown",
      "source": [
        "\n",
        "\n",
        "> Encoding Labels\n",
        "\n"
      ],
      "metadata": {
        "id": "vb7MEHDMJ76-"
      }
    },
    {
      "cell_type": "code",
      "source": [
        "from sklearn import preprocessing\n",
        "le=preprocessing.LabelEncoder()\n",
        "def label_encode(dataset):\n",
        "  dataset['protocol_type']=le.fit_transform(dataset['protocol_type'])\n",
        "  dataset['service']=le.fit_transform(dataset['service'])\n",
        "  dataset['flag']=le.fit_transform(dataset['flag'])\n",
        "  dataset['outcome']=le.fit_transform(dataset['outcome'])"
      ],
      "metadata": {
        "id": "X06ick89KJeh"
      },
      "execution_count": null,
      "outputs": []
    },
    {
      "cell_type": "code",
      "source": [
        "label_encode(KDD_TEST)"
      ],
      "metadata": {
        "id": "e1TPz3Z2LXHj"
      },
      "execution_count": null,
      "outputs": []
    },
    {
      "cell_type": "code",
      "source": [
        "label_encode(KDD_TEST_21)"
      ],
      "metadata": {
        "id": "rIQi68BVPfgQ"
      },
      "execution_count": null,
      "outputs": []
    },
    {
      "cell_type": "code",
      "source": [
        "label_encode(KDD_TRAIN)"
      ],
      "metadata": {
        "id": "OPND0bCDPf2S"
      },
      "execution_count": null,
      "outputs": []
    },
    {
      "cell_type": "code",
      "source": [
        "label_encode(KDD_TRAIN_20)"
      ],
      "metadata": {
        "id": "8EvD64BYPgQE"
      },
      "execution_count": null,
      "outputs": []
    },
    {
      "cell_type": "markdown",
      "source": [
        "\n",
        "\n",
        "> Descriprion of Different Datasets\n",
        "\n"
      ],
      "metadata": {
        "id": "KJlCdW5GJrMB"
      }
    },
    {
      "cell_type": "code",
      "source": [
        "KDD_TEST.describe()"
      ],
      "metadata": {
        "id": "TPhckuI9JYpg"
      },
      "execution_count": null,
      "outputs": []
    },
    {
      "cell_type": "code",
      "source": [
        "KDD_TEST_21.describe()"
      ],
      "metadata": {
        "id": "g7dZZJYSJau3"
      },
      "execution_count": null,
      "outputs": []
    },
    {
      "cell_type": "code",
      "source": [
        "KDD_TRAIN.describe()"
      ],
      "metadata": {
        "id": "dHXu88ThJcJI"
      },
      "execution_count": null,
      "outputs": []
    },
    {
      "cell_type": "code",
      "source": [
        "KDD_TRAIN_20.describe()"
      ],
      "metadata": {
        "id": "nRALqsX-JemT"
      },
      "execution_count": null,
      "outputs": []
    },
    {
      "cell_type": "markdown",
      "source": [
        "# Visulization"
      ],
      "metadata": {
        "id": "J-Tj3HQb_Q3f"
      }
    },
    {
      "cell_type": "markdown",
      "source": [
        "\n",
        "\n",
        "> KDD_TEST\n"
      ],
      "metadata": {
        "id": "wKfJM9EjCb4c"
      }
    },
    {
      "cell_type": "code",
      "source": [
        "KDD_TEST.hist(color='Teal' , figsize=(22,21))"
      ],
      "metadata": {
        "id": "QOlB3ClHCbb4"
      },
      "execution_count": null,
      "outputs": []
    },
    {
      "cell_type": "markdown",
      "source": [
        "\n",
        "\n",
        "> KDD_TEST_21\n",
        "\n"
      ],
      "metadata": {
        "id": "g97yf29mB0XK"
      }
    },
    {
      "cell_type": "code",
      "source": [
        "KDD_TEST_21.hist(color = 'green' , figsize=(22,21))"
      ],
      "metadata": {
        "id": "L2F-d651Bzle"
      },
      "execution_count": null,
      "outputs": []
    },
    {
      "cell_type": "markdown",
      "source": [
        "\n",
        "\n",
        "> KDD_TRAIN\n",
        "\n"
      ],
      "metadata": {
        "id": "4Lud0fO5BG2V"
      }
    },
    {
      "cell_type": "code",
      "source": [
        "KDD_TRAIN.hist( color = 'Olive' , figsize=(20,18))"
      ],
      "metadata": {
        "id": "JUHau8yoBGSc"
      },
      "execution_count": null,
      "outputs": []
    },
    {
      "cell_type": "markdown",
      "source": [
        "\n",
        "\n",
        "> KDD_TRAIN_20\n",
        "\n"
      ],
      "metadata": {
        "id": "gSN5yRoGBXtu"
      }
    },
    {
      "cell_type": "code",
      "source": [
        "KDD_TRAIN_20.hist(figsize=(20,18))"
      ],
      "metadata": {
        "id": "x9iERFm9_U7j"
      },
      "execution_count": null,
      "outputs": []
    },
    {
      "cell_type": "markdown",
      "source": [
        "# Correlation"
      ],
      "metadata": {
        "id": "6Q99X245FcHs"
      }
    },
    {
      "cell_type": "markdown",
      "source": [
        "\n",
        "\n",
        "> Identify which Variables are effect the performance of Tariget Variable\n",
        "\n"
      ],
      "metadata": {
        "id": "5Si7EonpFfQW"
      }
    },
    {
      "cell_type": "markdown",
      "source": [
        "\n",
        "\n",
        "> KDD_TEST_21\n",
        "\n"
      ],
      "metadata": {
        "id": "Hhi74h_CFxXl"
      }
    },
    {
      "cell_type": "code",
      "source": [
        "KDD_TEST_21_cor=KDD_TEST_21.corr()\n",
        "print(KDD_TEST_21_cor)"
      ],
      "metadata": {
        "id": "gO9bZCZLFr_M"
      },
      "execution_count": null,
      "outputs": []
    },
    {
      "cell_type": "markdown",
      "source": [
        "\n",
        "\n",
        "> HeatMap\n",
        "\n"
      ],
      "metadata": {
        "id": "47qyJkjZGIpt"
      }
    },
    {
      "cell_type": "code",
      "source": [
        "# figure size\n",
        "plt.figure(figsize=(39,40))\n",
        "mask = np.triu(np.ones_like(KDD_TEST_21_cor.corr(), dtype=bool))\n",
        "# Configure a custom diverging colormap\n",
        "cmap = sns.diverging_palette(230, 20, as_cmap=True)\n",
        "sns.heatmap(KDD_TEST_21_cor.corr(), annot=True, mask = mask, cmap=cmap)\n",
        "plt.show()"
      ],
      "metadata": {
        "id": "SyFpndzlGGnY"
      },
      "execution_count": null,
      "outputs": []
    },
    {
      "cell_type": "markdown",
      "source": [
        "\n",
        "\n",
        ">Drop the Unnecessary Columns\n",
        "\n"
      ],
      "metadata": {
        "id": "jH7ifPbrM3m4"
      }
    },
    {
      "cell_type": "code",
      "source": [
        "x_KDD_TEST_21=KDD_TEST_21.drop(columns=['outcome' , 'level' , 'num_outbound_cmds'] , axis=1)\n",
        "y_KDD_TEST_21=KDD_TEST_21['outcome']"
      ],
      "metadata": {
        "id": "E4rE6aujdr3Z"
      },
      "execution_count": null,
      "outputs": []
    },
    {
      "cell_type": "code",
      "source": [
        "# shape\n",
        "print(x_KDD_TEST_21.shape)\n",
        "print(y_KDD_TEST_21.shape)"
      ],
      "metadata": {
        "id": "Cd2Gc_MNd-5x"
      },
      "execution_count": null,
      "outputs": []
    },
    {
      "cell_type": "code",
      "source": [
        "x_KDD_TEST_21.columns"
      ],
      "metadata": {
        "id": "2sEoNWjSP7MP"
      },
      "execution_count": null,
      "outputs": []
    },
    {
      "cell_type": "code",
      "source": [
        "# split the x and y into training and testing dataset\n",
        "x_train_KDD_TEST_21   , x_test_KDD_TEST_21 , y_train_KDD_TEST_21, y_test_KDD_TEST_21=train_test_split(x_KDD_TEST_21,y_KDD_TEST_21 , test_size=0.23 , random_state=42)"
      ],
      "metadata": {
        "id": "zzY83qnReqvE"
      },
      "execution_count": null,
      "outputs": []
    },
    {
      "cell_type": "code",
      "source": [
        "# shape\n",
        "print(x_train_KDD_TEST_21.shape)\n",
        "print(x_test_KDD_TEST_21.shape)\n",
        "print(y_train_KDD_TEST_21.shape)\n",
        "print(y_test_KDD_TEST_21.shape)"
      ],
      "metadata": {
        "id": "W64bsCGeezpm"
      },
      "execution_count": null,
      "outputs": []
    },
    {
      "cell_type": "markdown",
      "source": [
        "# Testing Machine Learning Models"
      ],
      "metadata": {
        "id": "YA7xhZi8fE6G"
      }
    },
    {
      "cell_type": "markdown",
      "source": [
        "# Logistic Regression"
      ],
      "metadata": {
        "id": "AyiKXd1OnNBN"
      }
    },
    {
      "cell_type": "code",
      "source": [
        "# random search logistic regression model on the sonar dataset\n",
        "from scipy.stats import loguniform\n",
        "from pandas import read_csv\n",
        "from sklearn.linear_model import LogisticRegression\n",
        "from sklearn.model_selection import RepeatedStratifiedKFold\n",
        "from sklearn.model_selection import RandomizedSearchCV"
      ],
      "metadata": {
        "id": "QZfHQxwTbxJo"
      },
      "execution_count": null,
      "outputs": []
    },
    {
      "cell_type": "code",
      "source": [
        "# Built in the logistic Regression Models\n",
        "lr = LogisticRegression().fit(x_train_KDD_TEST_21,y_train_KDD_TEST_21 )\n",
        "pred1_KDD_TEST_21 = lr.predict(x_test_KDD_TEST_21)"
      ],
      "metadata": {
        "id": "TgsZ57gPfK-f"
      },
      "execution_count": null,
      "outputs": []
    },
    {
      "cell_type": "code",
      "source": [
        "# Display the Accuracy , Classification matrix and Classification Report\n",
        "accuracy_lr = accuracy_score(y_test_KDD_TEST_21, pred1_KDD_TEST_21)\n",
        "print(f'accuracy: {accuracy_lr}')\n",
        "print(f' confusion matrix:')\n",
        "print(confusion_matrix(y_test_KDD_TEST_21, pred1_KDD_TEST_21))\n",
        "print(f' classification report:')\n",
        "print(classification_report(y_test_KDD_TEST_21, pred1_KDD_TEST_21))"
      ],
      "metadata": {
        "id": "fkFBGPXEqPEs"
      },
      "execution_count": null,
      "outputs": []
    },
    {
      "cell_type": "markdown",
      "source": [
        "# KNN"
      ],
      "metadata": {
        "id": "15xjp8n_rfWq"
      }
    },
    {
      "cell_type": "code",
      "source": [
        "# Built in the KNN model\n",
        "KNN_model=KNeighborsClassifier()\n",
        "KNN_model.fit(x_train_KDD_TEST_21, y_train_KDD_TEST_21)\n",
        "pred2_KDD_TEST_21 = KNN_model.predict(x_test_KDD_TEST_21)"
      ],
      "metadata": {
        "id": "oc3z7GWRrjVM"
      },
      "execution_count": null,
      "outputs": []
    },
    {
      "cell_type": "code",
      "source": [
        "# Display the Accuracy , confusion matrix and Classification Report\n",
        "accuracy_knn = accuracy_score(y_test_KDD_TEST_21, pred2_KDD_TEST_21)\n",
        "print(f'accuracy: {accuracy_knn}')\n",
        "print(f' confusion matrix:')\n",
        "print(confusion_matrix(y_test_KDD_TEST_21, pred2_KDD_TEST_21))\n",
        "print(f' classification report:')\n",
        "print(classification_report(y_test_KDD_TEST_21, pred2_KDD_TEST_21))"
      ],
      "metadata": {
        "id": "OaOupQO-riQe"
      },
      "execution_count": null,
      "outputs": []
    },
    {
      "cell_type": "markdown",
      "source": [
        "# Random Forest"
      ],
      "metadata": {
        "id": "MdXLsTf0qtFD"
      }
    },
    {
      "cell_type": "code",
      "source": [
        "# Built in the Random Forest Model\n",
        "Ran_model=RandomForestClassifier()\n",
        "Ran_model.fit(x_train_KDD_TEST_21, y_train_KDD_TEST_21)\n",
        "pred3_KDD_TEST_21 = Ran_model.predict(x_test_KDD_TEST_21)"
      ],
      "metadata": {
        "id": "Y_5--A1_qwwQ"
      },
      "execution_count": null,
      "outputs": []
    },
    {
      "cell_type": "code",
      "source": [
        "# Display the accurcay , confusion matrix and classification report\n",
        "accuracy_ram = accuracy_score(y_test_KDD_TEST_21, pred3_KDD_TEST_21)\n",
        "print(f'accuracy: {accuracy_ram}')\n",
        "print(f' confusion matrix:')\n",
        "print(confusion_matrix(y_test_KDD_TEST_21, pred3_KDD_TEST_21))\n",
        "print(f' classification report:')\n",
        "print(classification_report(y_test_KDD_TEST_21, pred3_KDD_TEST_21))"
      ],
      "metadata": {
        "id": "-GevJOBMsKG-"
      },
      "execution_count": null,
      "outputs": []
    },
    {
      "cell_type": "code",
      "source": [
        "print(x_train_KDD_TEST_21.shape)\n",
        "print(y_train_KDD_TEST_21.shape)"
      ],
      "metadata": {
        "id": "O3myZBOJgA8A"
      },
      "execution_count": null,
      "outputs": []
    },
    {
      "cell_type": "markdown",
      "source": [
        "# SVM"
      ],
      "metadata": {
        "id": "a4NfsAlXsNqD"
      }
    },
    {
      "cell_type": "code",
      "source": [
        "# Built the SVM Model\n",
        "svc_model=SVC()\n",
        "svc_model.fit(x_train_KDD_TEST_21, y_train_KDD_TEST_21)\n",
        "pred4_KDD_TEST_21 = svc_model.predict(x_test_KDD_TEST_21)"
      ],
      "metadata": {
        "id": "nVPTQMJUsYad"
      },
      "execution_count": null,
      "outputs": []
    },
    {
      "cell_type": "code",
      "source": [
        "from sklearn.model_selection import GridSearchCV\n"
      ],
      "metadata": {
        "id": "3c2LVNw9798D"
      },
      "execution_count": null,
      "outputs": []
    },
    {
      "cell_type": "code",
      "source": [
        "# Display the Accuracy , confusion matrix and classification report\n",
        "accuracy_svm = accuracy_score(y_test_KDD_TEST_21, pred4_KDD_TEST_21)\n",
        "print(f'accuracy: {accuracy_svm}')\n",
        "print(f' confusion matrix:')\n",
        "print(confusion_matrix(y_test_KDD_TEST_21, pred4_KDD_TEST_21))\n",
        "print(f' classification report:')\n",
        "print(classification_report(y_test_KDD_TEST_21, pred4_KDD_TEST_21))\n",
        "\n",
        "# using GridSearch\n",
        "\n",
        "# defining parameter range\n",
        "param_grid = {'C': [0.1, 1, 10, 100, 1000],\n",
        "              'gamma': [1, 0.1, 0.01, 0.001, 0.0001],\n",
        "              'kernel': ['rbf']}\n",
        "\n",
        "grid = GridSearchCV(svc_model, param_grid, refit = True, verbose = 3)\n",
        "\n",
        "# fitting the model for grid search\n",
        "grid.fit(x_train_KDD_TEST_21, y_train_KDD_TEST_21)"
      ],
      "metadata": {
        "id": "_XxUwW1qseJ9"
      },
      "execution_count": null,
      "outputs": []
    },
    {
      "cell_type": "code",
      "source": [
        "# print best parameter after tuning\n",
        "print(grid.best_params_)\n",
        "\n",
        "# print how our model looks after hyper-parameter tuning\n",
        "print(grid.best_estimator_)"
      ],
      "metadata": {
        "id": "Zzhgaz6q8rIp"
      },
      "execution_count": null,
      "outputs": []
    },
    {
      "cell_type": "markdown",
      "source": [
        "# xgboost"
      ],
      "metadata": {
        "id": "AUmvLGQPspJW"
      }
    },
    {
      "cell_type": "code",
      "source": [
        "# built the xgboost classifier\n",
        "Gra_model=GradientBoostingClassifier()\n",
        "Gra_model.fit(x_train_KDD_TEST_21, y_train_KDD_TEST_21)\n",
        "pred5_KDD_TEST_21 = Gra_model.predict(x_test_KDD_TEST_21)"
      ],
      "metadata": {
        "id": "442qNHeCsq-B"
      },
      "execution_count": null,
      "outputs": []
    },
    {
      "cell_type": "code",
      "source": [
        "# identify the accuracy , confusion matrix and classification report\n",
        "accuracy_grad_model= accuracy_score(y_test_KDD_TEST_21, pred5_KDD_TEST_21)\n",
        "print(f'accuracy: {accuracy_grad_model}')\n",
        "print(f' confusion matrix:')\n",
        "print(confusion_matrix(y_test_KDD_TEST_21, pred5_KDD_TEST_21))\n",
        "print(f' classification report:')\n",
        "print(classification_report(y_test_KDD_TEST_21, pred5_KDD_TEST_21))"
      ],
      "metadata": {
        "id": "Ty9LdQSRstYa"
      },
      "execution_count": null,
      "outputs": []
    },
    {
      "cell_type": "markdown",
      "source": [
        "# Compare All DL and ML models"
      ],
      "metadata": {
        "id": "Ozzqs_IlpOj_"
      }
    },
    {
      "cell_type": "code",
      "source": [
        "fig = plt.figure()\n",
        "bars = ['SVM', 'Rf' ,'LR' , 'KNN' , 'XGBOOST']\n",
        "height = [accuracy_svm, accuracy_ram, accuracy_lr, accuracy_knn, accuracy_grad_model]\n",
        "x_pos = np.arange(len(bars))\n",
        "plt.bar(x_pos, height,  color=['skyblue', 'palegreen' , 'blue' , 'Olive' , 'green'] )\n",
        "plt.xticks(x_pos, bars)\n",
        "# Show graph\n",
        "plt.title(\"Comparison of models accuracy\")\n",
        "plt.show()"
      ],
      "metadata": {
        "id": "hXIkTw9wpWk0"
      },
      "execution_count": null,
      "outputs": []
    },
    {
      "cell_type": "markdown",
      "source": [
        "# Combined Prediction"
      ],
      "metadata": {
        "id": "m2oRICCKs18N"
      }
    },
    {
      "cell_type": "code",
      "source": [
        "# combine the predictions into a new dataset with four features\n",
        "pred1 = lr.predict(x_train_KDD_TEST_21)\n",
        "pred2 = KNN_model.predict(x_train_KDD_TEST_21)\n",
        "pred3 = Ran_model.predict(x_train_KDD_TEST_21)\n",
        "pred4 = Gra_model.predict(x_train_KDD_TEST_21)\n",
        "pred5 = svc_model.predict(x_train_KDD_TEST_21)\n",
        "\n",
        "new_X_train = np.vstack((pred1, pred2, pred3, pred4, pred5)).T\n",
        "new_X_test = np.vstack((lr.predict(x_test_KDD_TEST_21), KNN_model.predict(x_test_KDD_TEST_21), Ran_model.predict(x_test_KDD_TEST_21), Gra_model.predict(x_test_KDD_TEST_21), svc_model.predict(x_test_KDD_TEST_21))).T\n",
        "\n",
        "# train a decision tree model on the new dataset\n",
        "dt_model = DecisionTreeClassifier()\n",
        "dt_model.fit(new_X_train, y_train_KDD_TEST_21)"
      ],
      "metadata": {
        "id": "bsniVN5ds6Nk"
      },
      "execution_count": null,
      "outputs": []
    },
    {
      "cell_type": "code",
      "source": [
        "# make predictions using the decision tree model\n",
        "dt_pred = dt_model.predict(new_X_test)\n",
        "# evaluate the performance of the decision tree model\n",
        "Testing_accuracy = accuracy_score(y_test_KDD_TEST_21, dt_pred)\n",
        "print(f\"Accuracy of the decision tree model: {Testing_accuracy}\")"
      ],
      "metadata": {
        "id": "nifGWm2ktHNq"
      },
      "execution_count": null,
      "outputs": []
    },
    {
      "cell_type": "code",
      "source": [
        "from sklearn.model_selection import learning_curve"
      ],
      "metadata": {
        "id": "rBJsLTbG2wZQ"
      },
      "execution_count": null,
      "outputs": []
    },
    {
      "cell_type": "code",
      "source": [
        "train_sizes, train_scores, test_scores = learning_curve(DecisionTreeClassifier(max_depth=10, random_state=1),new_X_train, y_train_KDD_TEST_21, cv=10, scoring='accuracy', n_jobs=-1, train_sizes=np.linspace(0.01, 1.0, 50))\n",
        "#calculated the mean and standard deviation of the train and test scores.\n",
        "train_score_mean = np.mean(train_scores, axis=1)\n",
        "train_score_std = np.std(train_scores, axis=1)\n",
        "test_score_mean = np.mean(test_scores, axis=1)\n",
        "test_score_std = np.std(test_scores, axis=1)\n",
        "# plot the learning curve graph\n",
        "plt.subplots(1, figsize=(8,8))\n",
        "plt.plot(train_sizes, train_score_mean, '--', color=\"#111111\",  label=\"Training score\")\n",
        "plt.plot(train_sizes, test_score_mean, color=\"#111111\", label=\"Cross-validation score\")\n",
        "\n",
        "plt.fill_between(train_sizes, train_score_mean - train_score_std, train_score_mean + train_score_std, color=\"#DDDDDD\")\n",
        "plt.fill_between(train_sizes, test_score_mean - test_score_std, test_score_mean + test_score_std, color=\"#DDDDDD\")\n",
        "#title of the graph\n",
        "plt.title(\"Learning Curve\")\n",
        "#lable of axis (x-axis= training set size , y-axis=accuracy score)\n",
        "plt.xlabel(\"Training Set Size\"), plt.ylabel(\"Accuracy Score\"), plt.legend(loc=\"best\")\n",
        "plt.tight_layout()\n",
        "#To show\n",
        "plt.show()"
      ],
      "metadata": {
        "id": "qNfKx0WR2bTe"
      },
      "execution_count": null,
      "outputs": []
    },
    {
      "cell_type": "markdown",
      "source": [
        "# KDD_TRAIN_20"
      ],
      "metadata": {
        "id": "t7BeGMLTdmr-"
      }
    },
    {
      "cell_type": "markdown",
      "source": [
        "### Correlation"
      ],
      "metadata": {
        "id": "RHTsGbN63KMG"
      }
    },
    {
      "cell_type": "code",
      "source": [
        "KDD_TRAIN_20_corr=KDD_TRAIN_20.corr()\n",
        "print(KDD_TRAIN_20_corr)"
      ],
      "metadata": {
        "id": "sGp0eU0v3Nou"
      },
      "execution_count": null,
      "outputs": []
    },
    {
      "cell_type": "markdown",
      "source": [
        "### HeatMap"
      ],
      "metadata": {
        "id": "45o8D5FC3XBC"
      }
    },
    {
      "cell_type": "code",
      "source": [
        "# Use the heatmap function from the seaborn package\n",
        "plt.figure(figsize=(40,55))\n",
        "sns.heatmap(KDD_TRAIN_20.corr() , annot=True , cmap=\"YlGnBu\")\n",
        "plt.show()"
      ],
      "metadata": {
        "id": "qJdAsZuU3aEc"
      },
      "execution_count": null,
      "outputs": []
    },
    {
      "cell_type": "code",
      "source": [
        "KDD_TRAIN_20.columns"
      ],
      "metadata": {
        "id": "ukCGk_Ff3GiJ"
      },
      "execution_count": null,
      "outputs": []
    },
    {
      "cell_type": "markdown",
      "source": [
        "\n",
        "\n",
        "> Drop the unnecessary columns\n",
        "\n"
      ],
      "metadata": {
        "id": "w-BPCRNhaD18"
      }
    },
    {
      "cell_type": "code",
      "source": [
        "x=KDD_TRAIN_20.drop(columns=['outcome' , 'level','is_host_login' , 'num_outbound_cmds'] , axis=1)\n",
        "y=KDD_TRAIN_20['outcome']"
      ],
      "metadata": {
        "id": "kAgkGLFvfFVg"
      },
      "execution_count": null,
      "outputs": []
    },
    {
      "cell_type": "code",
      "source": [
        "# shape\n",
        "print(x.shape)\n",
        "print(y.shape)"
      ],
      "metadata": {
        "id": "SWzJnE4igSoi"
      },
      "execution_count": null,
      "outputs": []
    },
    {
      "cell_type": "code",
      "source": [
        "# split the x ,y into x_train , y_train , x_test and y_test\n",
        "x_train , x_test , y_train, y_test=train_test_split(x,y , test_size=0.23 , random_state=42)"
      ],
      "metadata": {
        "id": "x_654QQRgeBY"
      },
      "execution_count": null,
      "outputs": []
    },
    {
      "cell_type": "code",
      "source": [
        "# shape\n",
        "print(x_train.shape)\n",
        "print(y_train.shape)\n",
        "print(x_test.shape)\n",
        "print(y_test.shape)"
      ],
      "metadata": {
        "id": "Zqo3TA4Oig-_"
      },
      "execution_count": null,
      "outputs": []
    },
    {
      "cell_type": "markdown",
      "source": [
        "# Training Machine Learning Model"
      ],
      "metadata": {
        "id": "qclsElkui3aF"
      }
    },
    {
      "cell_type": "markdown",
      "source": [
        "# Logistic Regression"
      ],
      "metadata": {
        "id": "r9yVJ010jp2r"
      }
    },
    {
      "cell_type": "code",
      "source": [
        "# built in the logistic Regression model\n",
        "lr = LogisticRegression().fit(x_train, y_train)\n",
        "pred1 = lr.predict(x_test)"
      ],
      "metadata": {
        "id": "Dy1CCEtzi2wN"
      },
      "execution_count": null,
      "outputs": []
    },
    {
      "cell_type": "code",
      "source": [
        "# identify the accuracy , confusion matrix and classification report\n",
        "accuracy_lr = accuracy_score(y_test, pred1)\n",
        "print(f'accuracy: {accuracy_lr}')\n",
        "print(f' confusion matrix:')\n",
        "print(confusion_matrix(y_test, pred1))\n",
        "print(f' classification report:')\n",
        "print(classification_report(y_test, pred1))"
      ],
      "metadata": {
        "id": "KT92iocqsZIw"
      },
      "execution_count": null,
      "outputs": []
    },
    {
      "cell_type": "markdown",
      "source": [
        "# KNN Model"
      ],
      "metadata": {
        "id": "l7Gz54NAq9jm"
      }
    },
    {
      "cell_type": "code",
      "source": [
        "# Define  the KNN model\n",
        "KNN_model=KNeighborsClassifier()\n",
        "KNN_model.fit(x_train, y_train)\n",
        "pred2 = KNN_model.predict(x_test)"
      ],
      "metadata": {
        "id": "rzFVCwy0s7da"
      },
      "execution_count": null,
      "outputs": []
    },
    {
      "cell_type": "code",
      "source": [
        "# Identify the accuracy , confusion matrix and classification report\n",
        "accuracy_ram = accuracy_score(y_test, pred2)\n",
        "print(f'accuracy: {accuracy_ram}')\n",
        "print(f' confusion matrix:')\n",
        "print(confusion_matrix(y_test, pred2))\n",
        "print(f' classification report:')\n",
        "print(classification_report(y_test, pred2))"
      ],
      "metadata": {
        "id": "LpB8uIt7716c"
      },
      "execution_count": null,
      "outputs": []
    },
    {
      "cell_type": "markdown",
      "source": [
        "# Random Forest"
      ],
      "metadata": {
        "id": "1di7xyThr3FY"
      }
    },
    {
      "cell_type": "code",
      "source": [
        "# Built in the Random Forest model\n",
        "Ran_model=RandomForestClassifier()\n",
        "Ran_model.fit(x_train, y_train)\n",
        "pred3 = Ran_model.predict(x_test)"
      ],
      "metadata": {
        "id": "sePHgkCXt5UM"
      },
      "execution_count": null,
      "outputs": []
    },
    {
      "cell_type": "code",
      "source": [
        "# Identify the accurcay , confusion matrix and classification report\n",
        "accuracy_ram = accuracy_score(y_test, pred3)\n",
        "print(f'accuracy: {accuracy_ram}')\n",
        "print(f' confusion matrix:')\n",
        "print(confusion_matrix(y_test, pred3))\n",
        "print(f' classification report:')\n",
        "print(classification_report(y_test, pred3))"
      ],
      "metadata": {
        "id": "0deOp5_nuJjx"
      },
      "execution_count": null,
      "outputs": []
    },
    {
      "cell_type": "markdown",
      "source": [
        "# SVM"
      ],
      "metadata": {
        "id": "vFYYBAhYuiTf"
      }
    },
    {
      "cell_type": "code",
      "source": [
        "# Built in the svm model\n",
        "svc_model=SVC()\n",
        "svc_model.fit(x_train, y_train)\n",
        "pred4 = svc_model.predict(x_test)"
      ],
      "metadata": {
        "id": "vuJ4s_NEukXu"
      },
      "execution_count": null,
      "outputs": []
    },
    {
      "cell_type": "code",
      "source": [
        "# identify the accuracy , confusion matrix and classification report\n",
        "accuracy_svm = accuracy_score(y_test, pred4)\n",
        "print(f'accuracy: {accuracy_svm}')\n",
        "print(f' confusion matrix:')\n",
        "print(confusion_matrix(y_test, pred4))\n",
        "print(f' classification report:')\n",
        "print(classification_report(y_test, pred4))"
      ],
      "metadata": {
        "id": "lTCpN-kQ82kS"
      },
      "execution_count": null,
      "outputs": []
    },
    {
      "cell_type": "markdown",
      "source": [
        "# XGBOOST"
      ],
      "metadata": {
        "id": "aK8p847rxBjT"
      }
    },
    {
      "cell_type": "code",
      "source": [
        "# Built the Gradient Boosting Classifier model\n",
        "Gra_model=GradientBoostingClassifier()\n",
        "Gra_model.fit(x_train, y_train)\n",
        "pred5 = Gra_model.predict(x_test)"
      ],
      "metadata": {
        "id": "P_e8pma9w8jz"
      },
      "execution_count": null,
      "outputs": []
    },
    {
      "cell_type": "code",
      "source": [
        "# identify the accuracy , confusion matrix and classification report\n",
        "accuracy_grad_model = accuracy_score(y_test, pred5)\n",
        "print(f'accuracy: {accuracy_grad_model}')\n",
        "print(f' confusion matrix:')\n",
        "print(confusion_matrix(y_test, pred5))\n",
        "print(f' classification report:')\n",
        "print(classification_report(y_test, pred5))"
      ],
      "metadata": {
        "id": "hooXUDrF-Wt2"
      },
      "execution_count": null,
      "outputs": []
    },
    {
      "cell_type": "markdown",
      "source": [
        "# Compare the All ML and DL models"
      ],
      "metadata": {
        "id": "MbgKNRSMtbHq"
      }
    },
    {
      "cell_type": "code",
      "source": [
        "fig = plt.figure()\n",
        "bars = ['SVM', 'Rf' ,'LR' , 'KNN' , 'XGBOOST']\n",
        "height = [accuracy_svm, accuracy_ram, accuracy_lr, accuracy_knn, accuracy_grad_model]\n",
        "x_pos = np.arange(len(bars))\n",
        "plt.bar(x_pos, height,  color=['skyblue', 'palegreen' , 'blue' , 'Olive' , 'green'] )\n",
        "plt.xticks(x_pos, bars)\n",
        "# Show graph\n",
        "plt.title(\"Comparison of models accuracy\")\n",
        "plt.show()"
      ],
      "metadata": {
        "id": "DbNqfCVQtgPY"
      },
      "execution_count": null,
      "outputs": []
    },
    {
      "cell_type": "markdown",
      "source": [
        "# Combined Prediction"
      ],
      "metadata": {
        "id": "qb41aIBl-srB"
      }
    },
    {
      "cell_type": "code",
      "source": [
        "# combine the predictions into a new dataset with four features\n",
        "pred1 = lr.predict(x_train)\n",
        "pred2 = KNN_model.predict(x_train)\n",
        "pred3 = Ran_model.predict(x_train)\n",
        "pred4 = Gra_model.predict(x_train)\n",
        "pred5 = svc_model.predict(x_train)\n",
        "\n",
        "new_X_train = np.vstack((pred1, pred2, pred3, pred4, pred5)).T\n",
        "new_X_test = np.vstack((lr.predict(x_test), KNN_model.predict(x_test), Ran_model.predict(x_test), Gra_model.predict(x_test), svc_model.predict(x_test))).T\n",
        "\n",
        "# train a decision tree model on the new dataset\n",
        "dt_model = DecisionTreeClassifier()\n",
        "dt_model.fit(new_X_train, y_train)\n"
      ],
      "metadata": {
        "id": "IM-CKUmaKzeo"
      },
      "execution_count": null,
      "outputs": []
    },
    {
      "cell_type": "code",
      "source": [
        "# make predictions using the decision tree model\n",
        "dt_pred = dt_model.predict(new_X_test)\n",
        "\n",
        "# evaluate the performance of the decision tree model\n",
        "accuracy = accuracy_score(y_test, dt_pred)\n",
        "print(f\"Accuracy of the decision tree model: {accuracy}\")"
      ],
      "metadata": {
        "id": "GBEVOFYrJPVL"
      },
      "execution_count": null,
      "outputs": []
    },
    {
      "cell_type": "code",
      "source": [
        "train_sizes, train_scores, test_scores = learning_curve(DecisionTreeClassifier(max_depth=10, random_state=1),new_X_train, y_train, cv=10, scoring='accuracy', n_jobs=-1, train_sizes=np.linspace(0.01, 1.0, 50))\n",
        "#calculated the mean and standard deviation of the train and test scores.\n",
        "train_score_mean = np.mean(train_scores, axis=1)\n",
        "train_score_std = np.std(train_scores, axis=1)\n",
        "test_score_mean = np.mean(test_scores, axis=1)\n",
        "test_score_std = np.std(test_scores, axis=1)\n",
        "# plot the learning curve graph\n",
        "plt.subplots(1, figsize=(8,8))\n",
        "plt.plot(train_sizes, train_score_mean, '--', color=\"#111111\",  label=\"Training score\")\n",
        "plt.plot(train_sizes, test_score_mean, color=\"#111111\", label=\"Cross-validation score\")\n",
        "\n",
        "plt.fill_between(train_sizes, train_score_mean - train_score_std, train_score_mean + train_score_std, color=\"#DDDDDD\")\n",
        "plt.fill_between(train_sizes, test_score_mean - test_score_std, test_score_mean + test_score_std, color=\"#DDDDDD\")\n",
        "#title of the graph\n",
        "plt.title(\"Learning Curve\")\n",
        "#lable of axis (x-axis= training set size , y-axis=accuracy score)\n",
        "plt.xlabel(\"Training Set Size\"), plt.ylabel(\"Accuracy Score\"), plt.legend(loc=\"best\")\n",
        "plt.tight_layout()\n",
        "#To show\n",
        "plt.show()"
      ],
      "metadata": {
        "id": "rTAHTx62mqJK"
      },
      "execution_count": null,
      "outputs": []
    },
    {
      "cell_type": "markdown",
      "source": [
        "# Conclusion"
      ],
      "metadata": {
        "id": "5OomVaBVz-JA"
      }
    },
    {
      "cell_type": "markdown",
      "source": [
        "### Network Security, Information Security dataset contain training and testing dataset. By using the Machine Learning Models, I get the different accurcay\n",
        "**In Training Dataset**\n",
        "> Random forest Model=0.99 <br>\n",
        "> Logistic Regression Model =0.86 <br>\n",
        "> KNN Model=0.97 <br>\n",
        "> XGBoost=0.99 <br>\n",
        "> SVM=0.52 <br>\n",
        "\n",
        "The prediction of these model insert as a input in the Decision Tree Machine Learning Model and get the Accurcay approx 99%.\n",
        "\n",
        "**In Testing Dataset**\n",
        "> Random forest Model=0.96 <br>\n",
        "> Logistic Regression Model =0.27 <br>\n",
        "> KNN Model=0.92 <br>\n",
        "> XGBoost=0.96 <br>\n",
        "> SVM=0.238 <br>\n",
        "\n",
        "The prediction of these model insert as a input in the Decision Tree Machine Learning Model and get the Accurcay approx 96%.\n",
        "\n",
        "\n",
        "\n",
        "\n",
        "\n",
        "\n",
        "\n",
        "\n",
        "\n",
        "\n"
      ],
      "metadata": {
        "id": "AxBvpKg40B_w"
      }
    },
    {
      "cell_type": "code",
      "source": [],
      "metadata": {
        "id": "Pr2ZnfI54vPB"
      },
      "execution_count": null,
      "outputs": []
    }
  ]
}